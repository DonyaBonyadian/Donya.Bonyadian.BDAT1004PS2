{
 "cells": [
  {
   "cell_type": "markdown",
   "id": "66a4782f",
   "metadata": {},
   "source": [
    "#Q1\n",
    "\n",
    "answer : a=6\n",
    "\n",
    "a=0              # the value of a is zero at first\n",
    "def b():         #\"b\" function has the value \"a\" as a global value .a=c(a)\n",
    "    \n",
    "    global a     #the first time that \"b\" function is called,\"a\"=2,second time 2+2=4 and the third time 4+2=6\n",
    "\n",
    "    a=c(a)\n",
    "def c(a):\n",
    "    return a+2\n",
    "#value a has been changed by b functions\n"
   ]
  },
  {
   "cell_type": "markdown",
   "id": "53b7df4c",
   "metadata": {},
   "source": [
    "#Q2\n"
   ]
  },
  {
   "cell_type": "code",
   "execution_count": 16,
   "id": "99106b91",
   "metadata": {},
   "outputs": [
    {
     "name": "stdout",
     "output_type": "stream",
     "text": [
      "File midterm.py not found\n",
      "File idterm.py not found\n",
      "123\n"
     ]
    }
   ],
   "source": [
    "def fileLength(filename):\n",
    "    try:\n",
    "        infile = open(filename, 'r')\n",
    "        content = infile.read()\n",
    "        length = len(content)\n",
    "        infile.close()\n",
    "        print(length)\n",
    "    except FileNotFoundError:\n",
    "        print(f\"File {filename} not found\")\n",
    "        # Ex:\n",
    "fileLength('midterm.py')\n",
    "fileLength('idterm.py')\n",
    "fileLength('/Users/donyabonyadian/Downloads/Filelength.txt')\n",
    "\n",
    "\n",
    "\n",
    "     "
   ]
  },
  {
   "cell_type": "markdown",
   "id": "a5dd81f8",
   "metadata": {},
   "source": [
    "#Q3\n"
   ]
  },
  {
   "cell_type": "code",
   "execution_count": 17,
   "id": "8d6f5321",
   "metadata": {},
   "outputs": [
    {
     "name": "stdout",
     "output_type": "stream",
     "text": [
      "I am a Kangaroo located at coordinates (0,0)\n",
      "['kitten', 'doll', 'firetruck']\n",
      "I am a Kangaroo located at coordinates (3,0)\n"
     ]
    }
   ],
   "source": [
    "class Marsupial:\n",
    "    def __init__(self):\n",
    "        self.pouch = []\n",
    "\n",
    "    def put_in_pouch(self, item):\n",
    "        self.pouch.append(item)\n",
    "\n",
    "    def pouch_contents(self):\n",
    "        return self.pouch\n",
    "\n",
    "\n",
    "class Kangaroo(Marsupial):\n",
    "    def __init__(self, x, y):\n",
    "        super().__init__()\n",
    "        self.x = x\n",
    "        self.y = y\n",
    "\n",
    "    def jump(self, dx, dy):\n",
    "        self.x += dx\n",
    "        self.y += dy\n",
    "\n",
    "    def __str__(self):\n",
    "        return f\"I am a Kangaroo located at coordinates ({self.x},{self.y})\"\n",
    "\n",
    "\n",
    "# Ex:\n",
    "k = Kangaroo(0, 0)\n",
    "print(k)  # O.p: I am a Kangaroo located at coordinates (0,0)\n",
    "k.put_in_pouch('kitten')\n",
    "k.put_in_pouch('doll')\n",
    "k.put_in_pouch('firetruck')\n",
    "\n",
    "print(k.pouch_contents())  # O.p: ['doll', 'firetruck', 'kitten']\n",
    "\n",
    "k.jump(1, 0)\n",
    "k.jump(1, 0)\n",
    "k.jump(1, 0)\n",
    "print(k)  # O.p: I am a Kangaroo located at coordinates (3,0)\n",
    "\n",
    "    "
   ]
  },
  {
   "cell_type": "code",
   "execution_count": 21,
   "id": "d1476132",
   "metadata": {},
   "outputs": [
    {
     "name": "stdout",
     "output_type": "stream",
     "text": [
      "10\n",
      "5\n",
      "16\n",
      "8\n",
      "4\n",
      "2\n",
      "1\n"
     ]
    }
   ],
   "source": [
    "def collatz(x):\n",
    "    if x == 1:\n",
    "        print(x)\n",
    "    else:\n",
    "        print(x)\n",
    "        if x % 2 == 0:\n",
    "            collatz(x // 2)\n",
    "        else:\n",
    "            collatz(3 * x + 1)\n",
    "\n",
    "# Ex:\n",
    "collatz(10)\n"
   ]
  },
  {
   "cell_type": "code",
   "execution_count": 22,
   "id": "731d4c91",
   "metadata": {},
   "outputs": [
    {
     "name": "stdout",
     "output_type": "stream",
     "text": [
      "0\n",
      "1\n",
      "1\n",
      "1\n",
      "1\n",
      "0\n",
      "0\n",
      "1\n"
     ]
    }
   ],
   "source": [
    "#Q5\n",
    "def binary(n):\n",
    "    if n == 0:\n",
    "        print(0)\n",
    "    elif n == 1:\n",
    "        print(1)\n",
    "    else:\n",
    "        binary(n // 2)\n",
    "        print(n % 2)\n",
    "\n",
    "# Ex:\n",
    "binary(0)\n",
    "binary(1)\n",
    "binary(3)\n",
    "binary(9)"
   ]
  },
  {
   "cell_type": "code",
   "execution_count": 24,
   "id": "ea3dab59",
   "metadata": {},
   "outputs": [
    {
     "name": "stdout",
     "output_type": "stream",
     "text": [
      " W3C Mission\n",
      "  Principles\n"
     ]
    }
   ],
   "source": [
    "#Q6\n",
    "from html.parser import HTMLParser\n",
    "\n",
    "class HeadingParser(HTMLParser):\n",
    "    def __init__(self):\n",
    "        super().__init__()\n",
    "        self.in_heading = False\n",
    "        self.heading_level = 0\n",
    "\n",
    "    def handle_starttag(self, tag, attrs):\n",
    "        if tag.startswith('h') and len(tag) == 2 and tag[1].isdigit():\n",
    "            self.in_heading = True\n",
    "            self.heading_level = int(tag[1])\n",
    "\n",
    "    def handle_endtag(self, tag):\n",
    "        if self.in_heading:\n",
    "            self.in_heading = False\n",
    "\n",
    "    def handle_data(self, data):\n",
    "        if self.in_heading:\n",
    "            indentation = \" \" * self.heading_level\n",
    "            print(f\"{indentation}{data}\")\n",
    "\n",
    "# Ex:\n",
    "with open('/Users/donyabonyadian/Downloads/w3c (2).txt') as infile:\n",
    "    content = infile.read()\n",
    "\n",
    "hp = HeadingParser()\n",
    "hp.feed(content)"
   ]
  },
  {
   "cell_type": "code",
   "execution_count": 29,
   "id": "19b585dd",
   "metadata": {},
   "outputs": [
    {
     "name": "stdout",
     "output_type": "stream",
     "text": [
      " https://gc.blackboard.com/ultra/courses/_366152_1/outline/assessment/_10140789_1/overview/attempt/_25890886_1?courseId=_366152_1\n",
      "   https://passwordreset.microsoftonline.com/\n",
      "     https://www.microsoft.com/en-US/servicesagreement/\n",
      "     https://privacy.microsoft.com/en-US/privacystatement\n"
     ]
    }
   ],
   "source": [
    "#Q7\n",
    "import requests\n",
    "from bs4 import BeautifulSoup\n",
    "\n",
    "def webdir(url, depth, indent):\n",
    "    if depth < 0:\n",
    "        return\n",
    "\n",
    "    try:\n",
    "        response = requests.get(url)\n",
    "        response.raise_for_status()\n",
    "        soup = BeautifulSoup(response.text, 'html.parser')\n",
    "        print(' ' * indent + url)\n",
    "\n",
    "        if depth > 0:\n",
    "            for link in soup.find_all('a'):\n",
    "                href = link.get('href')\n",
    "                if href and href.startswith('http'):\n",
    "                    webdir(href, depth - 1, indent + 2)\n",
    "    except requests.exceptions.RequestException:\n",
    "        pass\n",
    "\n",
    "# Ex:\n",
    "webdir('https://gc.blackboard.com/ultra/courses/_366152_1/outline/assessment/_10140789_1/overview/attempt/_25890886_1?courseId=_366152_1', 2, 1)"
   ]
  },
  {
   "cell_type": "code",
   "execution_count": 10,
   "id": "77b88d3d",
   "metadata": {},
   "outputs": [],
   "source": [
    "#Q8\n",
    "\n",
    "SELECT temperature FROM weather_data;\n",
    "SELECT DISTINCT city FROM weather_data;\n",
    "SELECT * FROM weather_data WHERE country = 'India';\n",
    "SELECT * FROM weather_data WHERE season = 'Fall';"
   ]
  },
  {
   "cell_type": "code",
   "execution_count": 7,
   "id": "44cfcc4b",
   "metadata": {},
   "outputs": [
    {
     "name": "stdout",
     "output_type": "stream",
     "text": [
      "['THE', 'QUICK', 'BROWN', 'FOX', 'JUMPS', 'OVER', 'THE', 'LAZY', 'DOG']\n",
      "['the', 'quick', 'brown', 'fox', 'jumps', 'over', 'the', 'lazy', 'dog']\n",
      "[3, 5, 5, 3, 5, 4, 3, 4, 3]\n",
      "[['THE', 'the', 3], ['QUICK', 'quick', 5], ['BROWN', 'brown', 5], ['FOX', 'fox', 3], ['JUMPS', 'jumps', 5], ['OVER', 'over', 4], ['THE', 'the', 3], ['LAZY', 'lazy', 4], ['DOG', 'dog', 3]]\n",
      "['quick', 'brown', 'jumps', 'over', 'lazy']\n"
     ]
    }
   ],
   "source": [
    "#Q9\n",
    "words = ['The', 'quick', 'brown', 'fox', 'jumps', 'over', 'the', 'lazy', 'dog']\n",
    "upper_words = [word.upper() for word in words]\n",
    "lower_words = [word.lower() for word in words]\n",
    "word_lengths = [len(word) for word in words]\n",
    "word_info = [[word.upper(), word.lower(), len(word)] for word in words]\n",
    "long_words = [word for word in words if len(word) >= 4]\n",
    "print(upper_words )\n",
    "print(lower_words)\n",
    "print(word_lengths)\n",
    "print(word_info)\n",
    "print(long_words)"
   ]
  },
  {
   "cell_type": "code",
   "execution_count": null,
   "id": "7e946ae0",
   "metadata": {},
   "outputs": [],
   "source": []
  }
 ],
 "metadata": {
  "kernelspec": {
   "display_name": "Python 3 (ipykernel)",
   "language": "python",
   "name": "python3"
  },
  "language_info": {
   "codemirror_mode": {
    "name": "ipython",
    "version": 3
   },
   "file_extension": ".py",
   "mimetype": "text/x-python",
   "name": "python",
   "nbconvert_exporter": "python",
   "pygments_lexer": "ipython3",
   "version": "3.11.4"
  }
 },
 "nbformat": 4,
 "nbformat_minor": 5
}
